{
  "nbformat": 4,
  "nbformat_minor": 0,
  "metadata": {
    "colab": {
      "name": "hb_case__test.ipynb",
      "provenance": [],
      "collapsed_sections": []
    },
    "kernelspec": {
      "name": "python3",
      "display_name": "Python 3"
    },
    "language_info": {
      "name": "python"
    }
  },
  "cells": [
    {
      "cell_type": "code",
      "metadata": {
        "id": "cA2hxY-cqxgi"
      },
      "source": [
        "import pandas as pd\n",
        "from datetime import datetime, timedelta\n",
        "import numpy as np\n",
        "from ordered_set import OrderedSet\n",
        "\n",
        "\n",
        "path = \"drive/My Drive/hb_case/\"  \n",
        "  \n",
        "events = pd.read_json(path + \"events.json\")\n",
        "meta = pd.read_json(path + \"meta.json\")"
      ],
      "execution_count": null,
      "outputs": []
    },
    {
      "cell_type": "code",
      "metadata": {
        "id": "s75JnCO_v-v0"
      },
      "source": [
        "data = []\n",
        "\n",
        "for index, row in events.iterrows():\n",
        "    json_row = row['events']\n",
        "    \n",
        "    event_column = json_row['event']\n",
        "    session_column = json_row['sessionid']\n",
        "    eventtime_column = json_row['eventtime']\n",
        "    price_column = json_row['price']\n",
        "    productid_column = json_row['productid']\n",
        "\n",
        "    data.append([event_column, session_column, eventtime_column, price_column, productid_column])\n",
        "\n",
        "df_events = pd.DataFrame(data, columns=['event','sessionid','eventtime','price','productid'])\n",
        "df_events = df_events[df_events['productid'].notnull()]\n"
      ],
      "execution_count": null,
      "outputs": []
    },
    {
      "cell_type": "code",
      "metadata": {
        "id": "yjLoIS81r5kW"
      },
      "source": [
        "data = []\n",
        "\n",
        "for index, row in meta.iterrows():\n",
        "    json_row = row['meta']\n",
        "\n",
        "    productid_column = json_row['productid']\n",
        "    brand_column = json_row['brand']\n",
        "    category_column = json_row['category']\n",
        "    subcategory_column = json_row['subcategory']\n",
        "    name_column = json_row['name']\n",
        "\n",
        "    data.append([productid_column, brand_column, category_column, subcategory_column, name_column])\n",
        "\n",
        "df_meta = pd.DataFrame(data, columns=['productid','brand','category','subcategory','name'])\n",
        "df_meta = df_meta[df_meta['productid'].notnull()]"
      ],
      "execution_count": null,
      "outputs": []
    },
    {
      "cell_type": "code",
      "metadata": {
        "id": "NtV_Xx6lWu9x"
      },
      "source": [
        "df_meta.to_csv(path + 'df_meta.csv', index=False)\n",
        "df_events.to_csv(path + 'df_events.csv', index=False)"
      ],
      "execution_count": null,
      "outputs": []
    },
    {
      "cell_type": "code",
      "metadata": {
        "id": "0lxPSz8cXQ2B"
      },
      "source": [
        ""
      ],
      "execution_count": null,
      "outputs": []
    },
    {
      "cell_type": "code",
      "metadata": {
        "id": "uVaGuvoSs0OJ"
      },
      "source": [
        "import pandas as pd\n",
        "from datetime import datetime, timedelta\n",
        "import numpy as np\n",
        "from ordered_set import OrderedSet\n",
        "from itertools import combinations\n",
        "from itertools import permutations\n",
        "import itertools\n",
        "!pip install ordered-set\n",
        "\n",
        "path = \"drive/My Drive/hb_case/\"  \n",
        "\n",
        "df_event = pd.read_csv(path + \"df_events.csv\")\n",
        "df_meta = pd.read_csv(path + \"df_meta.csv\")"
      ],
      "execution_count": 107,
      "outputs": []
    },
    {
      "cell_type": "code",
      "metadata": {
        "id": "3xaAzqpjWoQ8"
      },
      "source": [
        "pd.set_option('display.max_colwidth', None)\n",
        "\n",
        "\n",
        "def is_column_unique(column):\n",
        "  return column.unique().shape[0] == column.shape[0]\n",
        "\n",
        "\n",
        "def join_frames(df_01, df_02, join_colum_list, join_type, report=True):\n",
        "\n",
        "  join_res = pd.merge(df_01, df_02, how=join_type, on=join_colum_list)\n",
        "\n",
        "  if report:\n",
        "    print(\"frame 01 row size : \" + str(df_01.shape[0]))\n",
        "    print(\"frame 02 row size : \" + str(df_02.shape[0]))\n",
        "    print(\"join row size     : \" + str(join_res.shape[0]))\n",
        "\n",
        "  return join_res\n",
        "\n",
        "\n",
        "def union_frames(df_01, df_02):\n",
        "  return pd.concat([df_01, df_02])\n",
        "\n",
        "\n",
        "def get_product_name(df_meta, item_list):\n",
        "  return df_meta[df_meta['productid'].isin(item_list)]\n",
        "\n",
        "\n",
        "def get_permutations(a_list):\n",
        "  lst = list(itertools.permutations(a_list, 2))\n",
        "  return lst\n",
        "\n",
        "\n",
        "def get_lift(productid, secondary_productid):\n",
        "  return df_lift[(df_lift['productid'] == productid) & (df_lift['secondary_productid'] == secondary_productid)]"
      ],
      "execution_count": 75,
      "outputs": []
    },
    {
      "cell_type": "code",
      "metadata": {
        "id": "FrzVxLoyzvNI"
      },
      "source": [
        "df_meta.head()"
      ],
      "execution_count": null,
      "outputs": []
    },
    {
      "cell_type": "code",
      "metadata": {
        "id": "GsvBMFlcvOAZ"
      },
      "source": [
        "df_event.head()"
      ],
      "execution_count": null,
      "outputs": []
    },
    {
      "cell_type": "code",
      "metadata": {
        "colab": {
          "base_uri": "https://localhost:8080/"
        },
        "id": "IIthrnOzqCfY",
        "outputId": "91c5e19f-0d1c-46bb-c287-8ed083f8d157"
      },
      "source": [
        "df_event.shape"
      ],
      "execution_count": 108,
      "outputs": [
        {
          "output_type": "execute_result",
          "data": {
            "text/plain": [
              "(387650, 5)"
            ]
          },
          "metadata": {},
          "execution_count": 108
        }
      ]
    },
    {
      "cell_type": "code",
      "metadata": {
        "colab": {
          "base_uri": "https://localhost:8080/"
        },
        "id": "TjZxNtPtqCnL",
        "outputId": "88fc151d-87db-44bd-a733-35573e094e0a"
      },
      "source": [
        "\n",
        "df_event = pd.read_csv(path + \"df_events.csv\")\n",
        "df_event_gropped = df_event.groupby('sessionid')['productid'].apply(list).reset_index(name='productid')\n",
        "df_event_gropped = df_event_gropped[df_event_gropped['productid'].str.len() > 1] \n",
        "df_event_groupped_test = df_event_gropped.sample(n = int(df_event_gropped.shape[0] * 0.1))\n",
        "\n",
        "test_session_id_list = list(df_event_groupped_test['sessionid'].tolist())\n",
        "df_event = df_event[~df_event['sessionid'].isin(test_session_id_list)]\n",
        "\n",
        "df_event.shape"
      ],
      "execution_count": 109,
      "outputs": [
        {
          "output_type": "execute_result",
          "data": {
            "text/plain": [
              "(351106, 5)"
            ]
          },
          "metadata": {},
          "execution_count": 109
        }
      ]
    },
    {
      "cell_type": "code",
      "metadata": {
        "colab": {
          "base_uri": "https://localhost:8080/"
        },
        "id": "KQGdKMpFqC0h",
        "outputId": "d64fd9aa-d5d8-4d04-8081-16e0249c61cf"
      },
      "source": [
        "df_event_groupped_test.shape"
      ],
      "execution_count": 110,
      "outputs": [
        {
          "output_type": "execute_result",
          "data": {
            "text/plain": [
              "(3848, 2)"
            ]
          },
          "metadata": {},
          "execution_count": 110
        }
      ]
    },
    {
      "cell_type": "markdown",
      "metadata": {
        "id": "YVy5rX9x0Flo"
      },
      "source": [
        "**ÜRÜN FİYATLARINI ALMA**\n"
      ]
    },
    {
      "cell_type": "code",
      "metadata": {
        "colab": {
          "base_uri": "https://localhost:8080/",
          "height": 248
        },
        "id": "fN_IGNztIU0O",
        "outputId": "aab339c5-f33e-4278-a48f-dfc54f06fdeb"
      },
      "source": [
        "# getting items prices\n",
        "\n",
        "df_product_price = df_event.groupby('productid')['price'].apply(list).reset_index(name='price')\n",
        "df_product_price['price'] = df_product_price['price'].apply(lambda x: x[0])\n",
        "\n",
        "df_product_detail = join_frames(df_product_price, df_meta, ['productid'], 'inner')\n",
        "\n",
        "df_product_detail.head()\n"
      ],
      "execution_count": 77,
      "outputs": [
        {
          "output_type": "stream",
          "name": "stdout",
          "text": [
            "frame 01 row size : 10086\n",
            "frame 02 row size : 10235\n",
            "join row size     : 10086\n"
          ]
        },
        {
          "output_type": "execute_result",
          "data": {
            "text/html": [
              "<div>\n",
              "<style scoped>\n",
              "    .dataframe tbody tr th:only-of-type {\n",
              "        vertical-align: middle;\n",
              "    }\n",
              "\n",
              "    .dataframe tbody tr th {\n",
              "        vertical-align: top;\n",
              "    }\n",
              "\n",
              "    .dataframe thead th {\n",
              "        text-align: right;\n",
              "    }\n",
              "</style>\n",
              "<table border=\"1\" class=\"dataframe\">\n",
              "  <thead>\n",
              "    <tr style=\"text-align: right;\">\n",
              "      <th></th>\n",
              "      <th>productid</th>\n",
              "      <th>price</th>\n",
              "      <th>brand</th>\n",
              "      <th>category</th>\n",
              "      <th>subcategory</th>\n",
              "      <th>name</th>\n",
              "    </tr>\n",
              "  </thead>\n",
              "  <tbody>\n",
              "    <tr>\n",
              "      <th>0</th>\n",
              "      <td>AILEBIZIZSMTLDGY54</td>\n",
              "      <td>59.99</td>\n",
              "      <td>Barbie</td>\n",
              "      <td>Oyuncak ve Kırtasiye</td>\n",
              "      <td>Oyuncak</td>\n",
              "      <td>Barbie Büyüleyici Parti Bebekleri</td>\n",
              "    </tr>\n",
              "    <tr>\n",
              "      <th>1</th>\n",
              "      <td>AILEBIZIZSMTLDHB18</td>\n",
              "      <td>64.99</td>\n",
              "      <td>Barbie</td>\n",
              "      <td>Oyuncak ve Kırtasiye</td>\n",
              "      <td>Oyuncak</td>\n",
              "      <td>Barbie Kariyer Bebekleri</td>\n",
              "    </tr>\n",
              "    <tr>\n",
              "      <th>2</th>\n",
              "      <td>AILEBS179526</td>\n",
              "      <td>169.99</td>\n",
              "      <td>Disney Cars</td>\n",
              "      <td>Oyuncak ve Kırtasiye</td>\n",
              "      <td>Oyuncak</td>\n",
              "      <td>Cars Renk Değiştiren Araçlar Mac Tır CKD34</td>\n",
              "    </tr>\n",
              "    <tr>\n",
              "      <th>3</th>\n",
              "      <td>AILEBSHSB22037</td>\n",
              "      <td>45.90</td>\n",
              "      <td>Play-Doh</td>\n",
              "      <td>Oyuncak ve Kırtasiye</td>\n",
              "      <td>Oyuncak</td>\n",
              "      <td>Play Doh Bonbon Partı Setı</td>\n",
              "    </tr>\n",
              "    <tr>\n",
              "      <th>4</th>\n",
              "      <td>AILEDALIN275101</td>\n",
              "      <td>9.90</td>\n",
              "      <td>Dalin</td>\n",
              "      <td>Bebek</td>\n",
              "      <td>Bebek Bakım ve Sağlığı</td>\n",
              "      <td>Dalin Şampuan Klasik 200ML</td>\n",
              "    </tr>\n",
              "  </tbody>\n",
              "</table>\n",
              "</div>"
            ],
            "text/plain": [
              "            productid  ...                                        name\n",
              "0  AILEBIZIZSMTLDGY54  ...           Barbie Büyüleyici Parti Bebekleri\n",
              "1  AILEBIZIZSMTLDHB18  ...                    Barbie Kariyer Bebekleri\n",
              "2        AILEBS179526  ...  Cars Renk Değiştiren Araçlar Mac Tır CKD34\n",
              "3      AILEBSHSB22037  ...                  Play Doh Bonbon Partı Setı\n",
              "4     AILEDALIN275101  ...                  Dalin Şampuan Klasik 200ML\n",
              "\n",
              "[5 rows x 6 columns]"
            ]
          },
          "metadata": {},
          "execution_count": 77
        }
      ]
    },
    {
      "cell_type": "markdown",
      "metadata": {
        "id": "O4IFU9EMX66G"
      },
      "source": [
        "**SUPPORT HESAPLAMA**"
      ]
    },
    {
      "cell_type": "code",
      "metadata": {
        "id": "WJOvGRRRTFI2"
      },
      "source": [
        "# CALCULATE SUPPORT\n",
        "\n",
        "df_product_support = df_event.groupby(['productid']).size().reset_index(name='counts')\n",
        "df_product_support['support'] = df_product_support['counts'] / df_product_support.shape[0]\n",
        "\n",
        "df_product_support.head(10)"
      ],
      "execution_count": null,
      "outputs": []
    },
    {
      "cell_type": "code",
      "metadata": {
        "id": "TF0k9Wt51SHp"
      },
      "source": [
        ""
      ],
      "execution_count": null,
      "outputs": []
    },
    {
      "cell_type": "markdown",
      "metadata": {
        "id": "d4iaPPLCulUL"
      },
      "source": [
        "**CONFIDENCE HESAPLAMA**"
      ]
    },
    {
      "cell_type": "code",
      "metadata": {
        "id": "2PnBgA6Pzk2z"
      },
      "source": [
        "# ürünler session'lara göre gruplanıp, ürünlerin unique halleri bulunuyor\n",
        "\n",
        "df_event.sort_values(by=['sessionid', 'productid'], ascending=True, inplace=True)\n",
        "df_associated_product = df_event.groupby('sessionid')['productid'].apply(list).reset_index(name='productid')\n",
        "\n",
        "# aynı session'da birden fazla satılan ürünleri tek olarak düşün, sadece diğer(ler)iyle beraber satılmış mı ona bakılacak\n",
        "df_associated_product['productid_unique'] = df_associated_product['productid'].apply(lambda x: list(OrderedSet(x))) \n",
        "\n",
        "# bir session'da tek bir ürünün satıldığı satırları dikkate alma\n",
        "df_associated_product = df_associated_product[df_associated_product['productid_unique'].str.len() > 1] \n",
        "\n",
        "df_associated_product.head(10)"
      ],
      "execution_count": null,
      "outputs": []
    },
    {
      "cell_type": "code",
      "metadata": {
        "id": "PJE-4H0CuxiT"
      },
      "source": [
        "# aynı session'da bulunmuş olan ürünlerin ikili permütasyonları bulunuyor\n",
        "\n",
        "df_associated_product.drop(['sessionid', 'productid'], axis=1, inplace=True)\n",
        "df_associated_product['productid_unique__perm'] = df_associated_product['productid_unique'].apply(lambda x: get_permutations(x)) # aynı session'da birden fazla satılan ürünleri tek olarak düşün, sadece diğer(ler)iyle beraber satılmış mı ona bakılacak\n",
        "\n",
        "df_associated_product.head(5)"
      ],
      "execution_count": null,
      "outputs": []
    },
    {
      "cell_type": "code",
      "metadata": {
        "id": "zXaHQuTz7ZSh"
      },
      "source": [
        "# tüm ikililer açılıyor\n",
        "\n",
        "df_associated_product = df_associated_product.explode('productid_unique__perm').reset_index(drop=True) \n",
        "df_associated_product.drop(['productid_unique'], axis=1, inplace=True)\n",
        "\n",
        "df_associated_product.head(10)"
      ],
      "execution_count": null,
      "outputs": []
    },
    {
      "cell_type": "code",
      "metadata": {
        "id": "fq9whrdexejJ"
      },
      "source": [
        "# tüm ikililelerin sayılaıar (combination kullanılmadığı için tüm ürünler için 2 çift geliyor)\n",
        "\n",
        "df_pair_count = df_associated_product.groupby(['productid_unique__perm']).size().reset_index(name='associated_count')\n",
        "df_pair_count = df_pair_count[df_pair_count['associated_count'] > 1]\n",
        "df_pair_count.sort_values(by=['associated_count'], ascending=False, inplace=True)\n",
        "\n",
        "df_pair_count.head(10)"
      ],
      "execution_count": null,
      "outputs": []
    },
    {
      "cell_type": "code",
      "metadata": {
        "id": "3joafI0e_zBI"
      },
      "source": [
        "# ikililerin düzenlenmiş hali \n",
        "\n",
        "df_pair_count[['productid', 'secondary_productid']] = pd.DataFrame(df_pair_count['productid_unique__perm'].tolist(), index=df_pair_count.index)\n",
        "df_pair_count.drop(['productid_unique__perm'], axis=1, inplace=True)\n",
        "\n",
        "df_pair_count.head(10)"
      ],
      "execution_count": null,
      "outputs": []
    },
    {
      "cell_type": "code",
      "metadata": {
        "id": "xugZpHroA5fn"
      },
      "source": [
        "# tüm ikililer arasındaki 'confidence' değeri hesaplanıyor\n",
        "\n",
        "df_confidence = join_frames(df_pair_count, df_product_support, ['productid'], 'inner', False)\n",
        "\n",
        "df_confidence.head(10)\n",
        "\n",
        "df_confidence['confidence'] = df_confidence['associated_count'] / df_confidence['counts']\n",
        "\n",
        "df_confidence.sort_values(by=['confidence'], ascending=False, inplace=True)\n",
        "df_confidence = df_confidence.rename(columns = {'counts':'main_count'})\n",
        "\n",
        "df_pre_lift = df_confidence.copy()\n",
        "\n",
        "df_confidence = df_confidence[['productid', 'secondary_productid', 'main_count', 'associated_count', 'confidence']]\n",
        "\n",
        "df_confidence.head(50)"
      ],
      "execution_count": null,
      "outputs": []
    },
    {
      "cell_type": "markdown",
      "metadata": {
        "id": "nLYvEJmezYJ7"
      },
      "source": [
        "**CALCULATE LIFT**"
      ]
    },
    {
      "cell_type": "code",
      "metadata": {
        "id": "S1cAY8tDIQmY"
      },
      "source": [
        "# lift hesaplanıyor\n",
        "\n",
        "df_pre_lift = df_pre_lift.rename(columns = {'support': 'main_support'})\n",
        "df_lift = pd.merge(df_pre_lift, df_product_support, how='inner', left_on='secondary_productid', right_on='productid')\n",
        "df_lift.drop(['productid_y'], axis=1, inplace=True)\n",
        "df_lift = df_lift.rename(columns = {'productid_x': 'productid'})\n",
        "\n",
        "df_lift = df_lift.rename(columns = {'support': 'secondary_support'})\n",
        "df_lift = df_lift.rename(columns = {'counts': 'secondary_count'})\n",
        "\n",
        "df_lift = df_lift[['productid', 'secondary_productid', 'main_count', 'secondary_count', 'associated_count', 'main_support', 'secondary_support', 'confidence']]\n",
        "df_lift['lift'] = df_lift['confidence'] / df_lift['secondary_support']\n",
        "df_lift.sort_values(by=['lift'], ascending=False, inplace=True)\n",
        "\n",
        "# lift <= 1 ise iki ürün tamamen alakasız, o değerler filtreleniyor \n",
        "df_lift = df_lift[(df_lift['associated_count'] >= 5) & (df_lift['lift'] > 3)]\n",
        "\n",
        "df_lift.head(50) \n"
      ],
      "execution_count": null,
      "outputs": []
    },
    {
      "cell_type": "code",
      "metadata": {
        "id": "M9BPJ7yObVOI"
      },
      "source": [
        "# NORMALIZE LIFT\n",
        "\n",
        "df_lift['log_lift'] = np.log(np.log(np.log(df_lift['lift'])))\n",
        "df_lift['normalized_lift'] = (df_lift['log_lift']-df_lift['log_lift'].min())/(df_lift['log_lift'].max()-df_lift['log_lift'].min())\n",
        "\n",
        "df_lift.head(50)"
      ],
      "execution_count": null,
      "outputs": []
    },
    {
      "cell_type": "code",
      "metadata": {
        "id": "k3pA9p6vNfxK"
      },
      "source": [
        "# bulunan lift ile, ürünler ve beraber satıldığı tüm ürünler gruplanıyor\n",
        "\n",
        "df_apriori = df_lift[['productid', 'secondary_productid', 'normalized_lift']]\n",
        "df_apriori['suggestion'] = df_lift['secondary_productid'] + \" - \" + df_lift['normalized_lift'].astype(str)\n",
        "df_apriori = df_apriori.groupby('productid')['suggestion'].apply(list).reset_index(name='suggestion')\n",
        "\n",
        "df_apriori.head(50)"
      ],
      "execution_count": null,
      "outputs": []
    },
    {
      "cell_type": "code",
      "metadata": {
        "id": "AY5bdRVo_QPs"
      },
      "source": [
        "# merak edilen ürünler için deneme yapılabilir :)\n",
        "item_list = ['HBV00000DJ9Q7', 'HBV00000DJ9PJ']\n",
        "\n",
        "get_product_name(df_meta, item_list)\n",
        "get_lift(item_list[0], item_list[1])\n"
      ],
      "execution_count": null,
      "outputs": []
    },
    {
      "cell_type": "code",
      "metadata": {
        "id": "NXjjS-AQ_zIe"
      },
      "source": [
        ""
      ],
      "execution_count": null,
      "outputs": []
    },
    {
      "cell_type": "markdown",
      "metadata": {
        "id": "yfyHl36Y5OH1"
      },
      "source": [
        "**EMBEDDING PREPROCESS**"
      ]
    },
    {
      "cell_type": "code",
      "metadata": {
        "id": "QFIKb0v2A4iM"
      },
      "source": [
        "df_event = df_event[df_event['productid'].notnull()]\n",
        "\n",
        "df_event.sort_values(by=['sessionid', 'eventtime'], ascending=True, inplace=True)\n",
        "\n",
        "df_associated_product = df_event.groupby('sessionid')['productid'].apply(list).reset_index(name='productid')\n",
        "df_associated_product['temp_column'] = 1\n",
        "df_associated_product['productid_unique'] = df_associated_product['productid'].apply(lambda x: list(OrderedSet(x)))\n",
        "df_associated_product = df_associated_product[df_associated_product['productid_unique'].str.len() > 1]\n",
        "df_associated_product = df_associated_product.groupby('temp_column')['productid_unique'].apply(list).reset_index(name='productid_unique')\n",
        "\n",
        "word_tokenized_corpus = df_associated_product['productid_unique'].tolist()[0]\n",
        "\n",
        "word_tokenized_corpus\n"
      ],
      "execution_count": null,
      "outputs": []
    },
    {
      "cell_type": "code",
      "metadata": {
        "id": "2rxljWrDP-R9"
      },
      "source": [
        "!pip install fasttext\n",
        "from gensim.models.fasttext import FastText\n",
        "from gensim.models import Word2Vec\n",
        "\n",
        "embedding_size = 60\n",
        "window_size = 40\n",
        "min_word = 5\n",
        "down_sampling = 1e-2\n",
        "\n",
        "ft_model_v1 = FastText(word_tokenized_corpus, size=embedding_size, window=window_size, min_count=min_word, sample=down_sampling, sg=1, iter=100)"
      ],
      "execution_count": null,
      "outputs": []
    },
    {
      "cell_type": "code",
      "metadata": {
        "id": "SWSNLigcO1ek"
      },
      "source": [
        "from gensim.test.utils import get_tmpfile\n",
        "\n",
        "ft_model_v1.save(path + 'ft_model_v1.model')"
      ],
      "execution_count": null,
      "outputs": []
    },
    {
      "cell_type": "code",
      "metadata": {
        "id": "PO6aqdN8k6nm"
      },
      "source": [
        "!pip install fasttext\n",
        "from gensim.models.fasttext import FastText\n",
        "from gensim.models import Word2Vec\n",
        "\n",
        "ft_model_v1 = FastText.load(path + 'ft_model_v1.model')"
      ],
      "execution_count": null,
      "outputs": []
    },
    {
      "cell_type": "code",
      "metadata": {
        "id": "2mHiXym2ClKE"
      },
      "source": [
        "def apriori_to_reco(productid):\n",
        "  reco_01_list = df_apriori[df_apriori['productid'] == productid]['suggestion'].tolist()\n",
        "  if not reco_01_list:\n",
        "    return []\n",
        "  \n",
        "  return reco_01_list[0][:20]\n",
        "\n",
        "\n",
        "def embedding_to_reco(productid):\n",
        "  \n",
        "  similar_word_list = ft_model_v1.wv.similar_by_word(productid, 20)\n",
        "  similar_word_list = filter(lambda x: x[1] >= 0.75, similar_word_list)\n",
        "\n",
        "  formatted_list = [\" - \".join(map(str, words)) for words in similar_word_list] \n",
        "  return formatted_list\n",
        "\n",
        "\n",
        "def reco_list_to_names(productid, product_similarity_list, source):\n",
        "\n",
        "  id_list = []\n",
        "  similarity_list = []\n",
        "  \n",
        "  for similarity_pair in product_similarity_list:\n",
        "    similarity_pair_list = similarity_pair.split(\" - \")\n",
        "    id_list.append(similarity_pair_list[0])\n",
        "    similarity_list.append(similarity_pair_list[1])\n",
        "\n",
        "  df = pd.DataFrame(\n",
        "      {'productid': id_list,\n",
        "      'similarity': similarity_list,\n",
        "       'source': source\n",
        "      })\n",
        "\n",
        "  return list(df_meta[df_meta['productid'] == productid]['name'])[0], join_frames(df, df_meta, ['productid'], 'inner', False)[['productid', 'name', 'category', 'subcategory', 'similarity', 'source']]\n",
        "\n",
        "\n",
        "def fill_recommendation_list(df_recommendation, number_of_random_products):\n",
        "\n",
        "  ignore_list = df_recommendation['productid'].tolist()\n",
        "  ignore_list.append(product_id)\n",
        "\n",
        "  product_detail = df_product_detail[df_product_detail['productid'] == product_id]\n",
        "\n",
        "  price = product_detail['price'].tolist()[0]\n",
        "  brand = product_detail['brand'].tolist()[0]\n",
        "  category = product_detail['category'].tolist()[0]\n",
        "  subcategory = product_detail['subcategory'].tolist()[0]\n",
        "\n",
        "  target_price_up = price * 3.0\n",
        "  target_price_down = price * 0.5\n",
        "\n",
        "  df_filtered_product = df_product_detail[(df_product_detail['subcategory'] == subcategory) & (df_product_detail['price'] >= target_price_down) & (df_product_detail['price'] <= target_price_up)]\n",
        "  df_filtered_product = df_filtered_product[~df_filtered_product['productid'].isin(ignore_list)]\n",
        "\n",
        "  df_filtered_product['price_similarity'] = (df_filtered_product['price'] - price).abs()\n",
        "  df_filtered_product['price_similarity_normalized'] = 1 - (df_filtered_product['price_similarity']-df_filtered_product['price_similarity'].min())/(df_filtered_product['price_similarity'].max()-df_filtered_product['price_similarity'].min()) \n",
        "\n",
        "  df_filtered_product['similarity'] = df_filtered_product['price_similarity_normalized'] / 100\n",
        "  df_filtered_product['source'] = 'random'\n",
        "  df_filtered_product = df_filtered_product[['productid', 'name', 'category', 'subcategory', 'similarity', 'source']]\n",
        "\n",
        "  df_similarity_03 = df_filtered_product.sample(number_of_random_products)\n",
        "  df_similarity_03.sort_values(by=['similarity'], ascending=False, inplace=True)\n",
        "  df_recommendation = union_frames(df_recommendation, df_similarity_03)\n",
        "\n",
        "  return df_recommendation\n"
      ],
      "execution_count": 89,
      "outputs": []
    },
    {
      "cell_type": "code",
      "metadata": {
        "id": "NBKxdDwPnF5l"
      },
      "source": [
        "# fastText'ten gelen örnek tavsiyeler\n",
        "\n",
        "product_id = 'HBV00000U273W'\n",
        "\n",
        "reco_list_01 = embedding_to_reco(product_id) \n",
        "product, df_similarity_01 = reco_list_to_names(product_id, reco_list_01, 'fastText')\n",
        "print(product)\n",
        "print()\n",
        "df_similarity_01.head(30)"
      ],
      "execution_count": null,
      "outputs": []
    },
    {
      "cell_type": "code",
      "metadata": {
        "id": "iSbLRJZqzEoK"
      },
      "source": [
        "# apriori'den gelen örnek tavsiyeler\n",
        "\n",
        "product_id = 'HBV00000U273W'\n",
        "reco_list_02 = apriori_to_reco(product_id)\n",
        "product, df_similarity_02 = reco_list_to_names(product_id, reco_list_02, 'apriori')\n",
        "print(product)\n",
        "print()\n",
        "df_similarity_02.head(10) "
      ],
      "execution_count": null,
      "outputs": []
    },
    {
      "cell_type": "code",
      "metadata": {
        "id": "JJIPeiuF-Gl3"
      },
      "source": [
        "def recommend_product(product_id):\n",
        "\n",
        "  reco_list_01 = embedding_to_reco(product_id) \n",
        "  product, df_similarity_01 = reco_list_to_names(product_id, reco_list_01, 'fastText')\n",
        "\n",
        "  reco_list_02 = apriori_to_reco(product_id)\n",
        "  product, df_similarity_02 = reco_list_to_names(product_id, reco_list_02, 'apriori')\n",
        "\n",
        "  print(\"*** \" + product + \" ***\\n\")\n",
        "\n",
        "  df_recommendation = union_frames(df_similarity_01, df_similarity_02)\n",
        "  df_recommendation['similarity'] = df_recommendation['similarity'].astype(float)\n",
        "\n",
        "  # embedding & apriori'den aynıları gelebilir diye productid'ye göre gruplama yapıyoruz\n",
        "  df_recommendation = df_recommendation.groupby('productid').agg({'name': 'min', 'category': 'min', 'subcategory': 'min', 'similarity': 'max', 'source': 'sum'})\n",
        "  df_recommendation.reset_index(inplace=True)\n",
        "\n",
        "  df_recommendation.sort_values(by=['similarity'], ascending=False, inplace=True)\n",
        "\n",
        "  number_of_target_recommendations = 10\n",
        "  number_of_recommendations = df_recommendation.shape[0]\n",
        "\n",
        "  if number_of_recommendations < number_of_target_recommendations:\n",
        "    \n",
        "    df_recommendation = fill_recommendation_list(df_recommendation, number_of_target_recommendations - number_of_recommendations)\n",
        "\n",
        "  return df_recommendation#.head(number_of_target_recommendations)"
      ],
      "execution_count": 90,
      "outputs": []
    },
    {
      "cell_type": "code",
      "metadata": {
        "id": "Qcgb3AGW9PK8"
      },
      "source": [
        ""
      ],
      "execution_count": null,
      "outputs": []
    },
    {
      "cell_type": "code",
      "metadata": {
        "id": "lOD0GERy-Gvs"
      },
      "source": [
        "#product_id_list = ['HBV00000NE0SY', 'HBV00000QU3Z9', 'HBV00000NE25T', 'HBV00000NG8T3', 'AILEELITDIS5288B', 'HBV00000U27LJ']\n",
        "#product_id_list = ['HBV00000NE0SY']\n",
        "product_id_list = ['HBV00000NE21L', 'HBV00000NE0SY', 'HBV00000QU3Z9', 'HBV00000NE25T', 'HBV00000NG8T3', 'AILEELITDIS5288B', 'HBV00000U27LJ'] \n",
        "#all_recos = pd.DataFrame(columns=['productid', 'name', 'category', 'subcategory', 'similarity', 'source', 'product_number'])\n",
        "\n",
        "all_recos = None\n",
        "\n",
        "count = 1\n",
        "for product_id in product_id_list:\n",
        "\n",
        "  # sırayla ürünler için tavsiyler geliyor\n",
        "  rc = recommend_product(product_id)\n",
        "\n",
        "  rc['product_number'] = str(count)\n",
        "  rc['order'] = np.arange(rc.shape[0]) + 1\n",
        "\n",
        "  # gelen tavsiyler bir araya toplanıyor\n",
        "  all_recos = union_frames(all_recos, rc)\n",
        "\n",
        "  all_recos = all_recos[~all_recos['productid'].isin(product_id_list)]\n",
        "\n",
        "  count += 1\n",
        "\n",
        "\n",
        "all_recos.head(50)\n",
        "\n",
        "### farlı ürünler için, aynı ürün tavsiye ediliyorsa, onlara öncelik verilecek, bunun sayısını öğrenmek için\n",
        "### gruplama yapılıyor. product_number kolonunda, öoklu olan ifadeler concat'lanıyor\n",
        "\n",
        "res = all_recos.groupby('productid').agg({'name': 'min', 'category': 'min', 'subcategory': 'min', 'similarity': 'max', 'source': 'sum', 'product_number': 'sum', 'order': 'sum'})\n",
        "res.reset_index(inplace=True)\n",
        "\n",
        "# bu satırdaki ürün kaç farklı ürün için tavsiye edilmiş\n",
        "res['same_candidate_number'] = res['product_number'].str.len()\n",
        "\n",
        "# bunlar öncelikli olacağından üst sıraya alınıyor\n",
        "res.sort_values(by=['same_candidate_number'], ascending=False, inplace=True)\n",
        "\n",
        "res.head(50)"
      ],
      "execution_count": null,
      "outputs": []
    },
    {
      "cell_type": "code",
      "metadata": {
        "id": "wIuPnldk-TCo"
      },
      "source": [
        "# alltaki kısım, çoklu ürün tavsiyesinde, bir ürün birden fazla girdi için tavsiye edildiyse, onu üst sıraya taşıyor\n",
        "\n",
        "# birden fazla ürün için tavsiye edilmiş ürünler\n",
        "mutual_reco = res[res['same_candidate_number'] > 1]\n",
        "\n",
        "# bir kere tavsiye edilmiş ürünler\n",
        "product_reco = res[res['same_candidate_number'] <= 1]\n",
        "\n",
        "# bir kere tavsiye edilenler ürün'ün kendi içindeki tavsiye sırası ve ürün numarasına (product_number) göre küçükten büyüğe sıralanıyor\n",
        "product_reco.sort_values(by=['order', 'product_number'], ascending=True, inplace=True)\n",
        "\n",
        "# birden fazla tavsiye edilenler en üstte olacak \n",
        "final_reco = union_frames(mutual_reco, product_reco)\n",
        "\n",
        "final_reco = final_reco.head(10)\n",
        "\n",
        "# birden fazla tavsiye edilen ürünler yukarıda olacak şekilde, tavsiye edilen ürünler benzerlik puanlarına göre sıralanıyor\n",
        "final_reco.sort_values(by=['same_candidate_number', 'similarity'], ascending=False, inplace=True)\n",
        "\n",
        "final_reco.head(10)"
      ],
      "execution_count": null,
      "outputs": []
    },
    {
      "cell_type": "code",
      "metadata": {
        "id": "g1nUkq6XIgtV"
      },
      "source": [
        "# BU KISIM KONTROL AMAÇLI\n",
        "#### input olarak diyelim ki 7 giriş oldu ama farklı ürünler için aynıları tavsiye edildiğinde öncelikli olduğundan onlar üste çıkınca\n",
        "#### diğerlerine sıra gelmeyebiliyor. Bunun için, adına tavsiye yapılmamış ürünler tespit ediliyor (1)\n",
        "#### dahil edilmeyen ürün kadar satır sondan siliniyor (2)\n",
        "#### diğer ürünlerin ilk sıradaki tavsiyesi, sırayla sonra ekleniyor\n",
        "\n",
        "number_of_input = len(product_id_list)\n",
        "product_index_list = final_reco['product_number'].unique()\n",
        "\n",
        "product_index_str = '-'.join(product_index_list)\n",
        "\n",
        "not_included_list = []\n",
        "\n",
        "# (1)\n",
        "for i in range(1, number_of_input + 1):\n",
        "  index = str(i)\n",
        "  if index not in product_index_str:\n",
        "    not_included_list.append(index)  \n",
        "\n",
        "\n",
        "if len(not_included_list) > 0:\n",
        "\n",
        "  # (2)\n",
        "  final_reco = final_reco.iloc[:-len(not_included_list)]\n",
        "\n",
        "  # (3)\n",
        "  for product_index in not_included_list:\n",
        "    final_reco = union_frames(final_reco, product_reco[(product_reco['product_number'] == product_index) & (product_reco['order'] == 1)]) \n",
        "\n",
        "final_reco.head(10)"
      ],
      "execution_count": null,
      "outputs": []
    },
    {
      "cell_type": "code",
      "metadata": {
        "id": "5X_JckPUpSwB"
      },
      "source": [
        ""
      ],
      "execution_count": null,
      "outputs": []
    },
    {
      "cell_type": "code",
      "metadata": {
        "id": "sEdCnzZyunlC"
      },
      "source": [
        "def get_final_recommendation(product_id_list):\n",
        "\n",
        "  all_recos = None\n",
        "\n",
        "  count = 1\n",
        "  for pid in product_id_list:\n",
        "\n",
        "    # sırayla ürünler için tavsiyler geliyor\n",
        "    rc = recommend_product(pid)\n",
        "    rc['product_number'] = str(count)\n",
        "    rc['order'] = np.arange(rc.shape[0]) + 1\n",
        "\n",
        "    # gelen tavsiyler bir araya toplanıyor\n",
        "    all_recos = union_frames(all_recos, rc)\n",
        "\n",
        "    all_recos = all_recos[~all_recos['productid'].isin(product_id_list)]\n",
        "\n",
        "    count += 1\n",
        "\n",
        "  all_recos.head(50)\n",
        "\n",
        "  ### farlı ürünler için, aynı ürün tavsiye ediliyorsa, onlara öncelik verilecek, bunun sayısını öğrenmek için\n",
        "  ### gruplama yapılıyor. product_number kolonunda, öoklu olan ifadeler concat'lanıyor\n",
        "\n",
        "  res = all_recos.groupby('productid').agg({'name': 'min', 'category': 'min', 'subcategory': 'min', 'similarity': 'max', 'source': 'sum', 'product_number': 'sum', 'order': 'sum'})\n",
        "  res.reset_index(inplace=True)\n",
        "\n",
        "  # bu satırdaki ürün kaç farklı ürün için tavsiye edilmiş\n",
        "  res['same_candidate_number'] = res['product_number'].str.len()\n",
        "\n",
        "  # bunlar öncelikli olacağından üst sıraya alınıyor\n",
        "  res.sort_values(by=['same_candidate_number'], ascending=False, inplace=True)\n",
        "\n",
        "  mutual_reco = res[res['same_candidate_number'] > 1]\n",
        "\n",
        "  # bir kere tavsiye edilmiş ürünler\n",
        "  product_reco = res[res['same_candidate_number'] <= 1]\n",
        "\n",
        "  # bir kere tavsiye edilenler ürün'ün kendi içindeki tavsiye sırası ve ürün numarasına (product_number) göre küçükten büyüğe sıralanıyor\n",
        "  product_reco.sort_values(by=['order', 'product_number'], ascending=True, inplace=True)\n",
        "\n",
        "  # birden fazla tavsiye edilenler en üstte olacak \n",
        "  final_reco = union_frames(mutual_reco, product_reco)\n",
        "\n",
        "  final_reco = final_reco.head(10)\n",
        "\n",
        "  # birden fazla tavsiye edilen ürünler yukarıda olacak şekilde, tavsiye edilen ürünler benzerlik puanlarına göre sıralanıyor\n",
        "  final_reco.sort_values(by=['same_candidate_number', 'similarity'], ascending=False, inplace=True)\n",
        "\n",
        "\n",
        "  # BU KISIM KONTROL AMAÇLI\n",
        "  #### input olarak diyelim ki 7 giriş oldu ama farklı ürünler için aynıları tavsiye edildiğinde öncelikli olduğundan onlar üste çıkınca\n",
        "  #### diğerlerine sıra gelmeyebiliyor. Bunun için, adına tavsiye yapılmamış ürünler tespit ediliyor (1)\n",
        "  #### dahil edilmeyen ürün kadar satır sondan siliniyor (2)\n",
        "  #### diğer ürünlerin ilk sıradaki tavsiyesi, sırayla sonra ekleniyor\n",
        "\n",
        "  number_of_input = len(product_id_list)\n",
        "  product_index_list = final_reco['product_number'].unique()\n",
        "\n",
        "  product_index_str = '-'.join(product_index_list)\n",
        "\n",
        "  not_included_list = []\n",
        "\n",
        "  # (1)\n",
        "  for i in range(1, number_of_input + 1):\n",
        "    index = str(i)\n",
        "    if index not in product_index_str:\n",
        "      not_included_list.append(index)  \n",
        "\n",
        "\n",
        "  if len(not_included_list) > 0:\n",
        "\n",
        "    # (2)\n",
        "    final_reco = final_reco.iloc[:-len(not_included_list)]\n",
        "\n",
        "    # (3)\n",
        "    for product_index in not_included_list:\n",
        "      final_reco = union_frames(final_reco, product_reco[(product_reco['product_number'] == product_index) & (product_reco['order'] == 1)]) \n",
        "\n",
        "  return final_reco.head(10)\n"
      ],
      "execution_count": 66,
      "outputs": []
    },
    {
      "cell_type": "code",
      "metadata": {
        "id": "p_hgHaSPngNd"
      },
      "source": [
        "#product_id_list = ['HBV00000NE0SY', 'HBV00000QU3Z9', 'HBV00000NE25T', 'HBV00000NG8T3', 'AILEELITDIS5288B', 'HBV00000U27LJ']\n",
        "#product_id_list = ['HBV00000NE0SY']\n",
        "product_id_list = ['HBV00000NE21L', 'HBV00000NE0SY', 'HBV00000QU3Z9', 'HBV00000NE25T', 'HBV00000NG8T3', 'AILEELITDIS5288B', 'HBV00000U27LJ'] \n",
        "\n",
        "get_final_recommendation(product_id_list)"
      ],
      "execution_count": null,
      "outputs": []
    },
    {
      "cell_type": "code",
      "metadata": {
        "id": "TE1VIgrj8i-i"
      },
      "source": [
        ""
      ],
      "execution_count": null,
      "outputs": []
    },
    {
      "cell_type": "markdown",
      "metadata": {
        "id": "T3YJnRnYnSPM"
      },
      "source": [
        "**TEST**"
      ]
    },
    {
      "cell_type": "code",
      "metadata": {
        "id": "9tlj0bNGu_vq"
      },
      "source": [
        "product_id_list = ['HBV00000NE21L', 'HBV00000NE0SY', 'HBV00000QU3Z9', 'HBV00000NE25T', 'HBV00000NG8T3', 'AILEELITDIS5288B', 'HBV00000U27LJ'] \n",
        "\n",
        "rs = get_final_recommendation(product_id_list)\n",
        "\n",
        "global count\n",
        "count = 0\n",
        "def get_reco_list(item):\n",
        "  \n",
        "  global count\n",
        "  count += 1\n",
        "  print(count)\n",
        "\n",
        "  return list(get_final_recommendation(item)['productid'].tolist())\n",
        "\n",
        "\n",
        "df_event_groupped_test['recommendation_list'] = df_event_groupped_test['productid'].apply(lambda x: get_reco_list(x[:3])) \n",
        "\n",
        "\n",
        "df_event_groupped_test.to_csv(path + 'df_event_groupped_test.csv', index=False)\n",
        "\n",
        "df_event_groupped_test.shape\n"
      ],
      "execution_count": null,
      "outputs": []
    },
    {
      "cell_type": "code",
      "metadata": {
        "id": "OCQnJ5tL2MAH"
      },
      "source": [
        "def intersection(lst1, lst2):\n",
        "  return list(set(lst1) & set(lst2))\n",
        "\n",
        "\n",
        "df_event_groupped_test['number_of_intersection'] = df_event_groupped_test.apply(lambda x: intersection(x['productid'], x['recommendation_list']), axis=1)\n",
        "df_filtered_res = df_event_groupped_test[df_event_groupped_test['number_of_intersection'].str.len() > 0] \n",
        "\n",
        "print(df_event_groupped_test.shape)\n",
        "print(df_filtered_res.shape)"
      ],
      "execution_count": null,
      "outputs": []
    }
  ]
}